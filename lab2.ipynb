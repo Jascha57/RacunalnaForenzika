{
 "cells": [
  {
   "cell_type": "code",
   "execution_count": 1,
   "metadata": {},
   "outputs": [
    {
     "ename": "MagicException",
     "evalue": "b'could not find any valid magic files!'",
     "output_type": "error",
     "traceback": [
      "\u001b[1;31m---------------------------------------------------------------------------\u001b[0m",
      "\u001b[1;31mMagicException\u001b[0m                            Traceback (most recent call last)",
      "Cell \u001b[1;32mIn[1], line 9\u001b[0m\n\u001b[0;32m      5\u001b[0m \u001b[38;5;28;01mimport\u001b[39;00m \u001b[38;5;21;01mmimetypes\u001b[39;00m\n\u001b[0;32m      7\u001b[0m dir_path \u001b[38;5;241m=\u001b[39m \u001b[38;5;124m\"\u001b[39m\u001b[38;5;124mC:\u001b[39m\u001b[38;5;130;01m\\\\\u001b[39;00m\u001b[38;5;124mUsers\u001b[39m\u001b[38;5;130;01m\\\\\u001b[39;00m\u001b[38;5;124mPC\u001b[39m\u001b[38;5;130;01m\\\\\u001b[39;00m\u001b[38;5;124mRačunalna Forenzika\u001b[39m\u001b[38;5;130;01m\\\\\u001b[39;00m\u001b[38;5;124mPetriJ\u001b[39m\u001b[38;5;130;01m\\\\\u001b[39;00m\u001b[38;5;124mDokaz\u001b[39m\u001b[38;5;124m\"\u001b[39m\n\u001b[1;32m----> 9\u001b[0m f \u001b[38;5;241m=\u001b[39m \u001b[43mmagic\u001b[49m\u001b[38;5;241;43m.\u001b[39;49m\u001b[43mMagic\u001b[49m\u001b[43m(\u001b[49m\u001b[43m)\u001b[49m\n\u001b[0;32m     11\u001b[0m file_names \u001b[38;5;241m=\u001b[39m []\n\u001b[0;32m     12\u001b[0m original_extensions \u001b[38;5;241m=\u001b[39m []\n",
      "File \u001b[1;32mc:\\Users\\PC\\Računalna Forenzika\\PetriJ\\venv\\Lib\\site-packages\\magic\\magic.py:71\u001b[0m, in \u001b[0;36mMagic.__init__\u001b[1;34m(self, mime, magic_file, mime_encoding, keep_going, uncompress)\u001b[0m\n\u001b[0;32m     68\u001b[0m \u001b[38;5;28mself\u001b[39m\u001b[38;5;241m.\u001b[39mcookie \u001b[38;5;241m=\u001b[39m magic_open(\u001b[38;5;28mself\u001b[39m\u001b[38;5;241m.\u001b[39mflags)\n\u001b[0;32m     69\u001b[0m \u001b[38;5;28mself\u001b[39m\u001b[38;5;241m.\u001b[39mlock \u001b[38;5;241m=\u001b[39m threading\u001b[38;5;241m.\u001b[39mLock()\n\u001b[1;32m---> 71\u001b[0m \u001b[43mmagic_load\u001b[49m\u001b[43m(\u001b[49m\u001b[38;5;28;43mself\u001b[39;49m\u001b[38;5;241;43m.\u001b[39;49m\u001b[43mcookie\u001b[49m\u001b[43m,\u001b[49m\u001b[43m \u001b[49m\u001b[43mmagic_file\u001b[49m\u001b[43m)\u001b[49m\n",
      "File \u001b[1;32mc:\\Users\\PC\\Računalna Forenzika\\PetriJ\\venv\\Lib\\site-packages\\magic\\magic.py:272\u001b[0m, in \u001b[0;36mmagic_load\u001b[1;34m(cookie, filename)\u001b[0m\n\u001b[0;32m    271\u001b[0m \u001b[38;5;28;01mdef\u001b[39;00m \u001b[38;5;21mmagic_load\u001b[39m(cookie, filename):\n\u001b[1;32m--> 272\u001b[0m     \u001b[38;5;28;01mreturn\u001b[39;00m \u001b[43m_magic_load\u001b[49m\u001b[43m(\u001b[49m\u001b[43mcookie\u001b[49m\u001b[43m,\u001b[49m\u001b[43m \u001b[49m\u001b[43mcoerce_filename\u001b[49m\u001b[43m(\u001b[49m\u001b[43mfilename\u001b[49m\u001b[43m)\u001b[49m\u001b[43m)\u001b[49m\n",
      "File \u001b[1;32mc:\\Users\\PC\\Računalna Forenzika\\PetriJ\\venv\\Lib\\site-packages\\magic\\magic.py:203\u001b[0m, in \u001b[0;36merrorcheck_negative_one\u001b[1;34m(result, func, args)\u001b[0m\n\u001b[0;32m    201\u001b[0m \u001b[38;5;28;01mif\u001b[39;00m result \u001b[38;5;129;01mis\u001b[39;00m \u001b[38;5;241m-\u001b[39m\u001b[38;5;241m1\u001b[39m:\n\u001b[0;32m    202\u001b[0m     err \u001b[38;5;241m=\u001b[39m magic_error(args[\u001b[38;5;241m0\u001b[39m])\n\u001b[1;32m--> 203\u001b[0m     \u001b[38;5;28;01mraise\u001b[39;00m MagicException(err)\n\u001b[0;32m    204\u001b[0m \u001b[38;5;28;01melse\u001b[39;00m:\n\u001b[0;32m    205\u001b[0m     \u001b[38;5;28;01mreturn\u001b[39;00m result\n",
      "\u001b[1;31mMagicException\u001b[0m: b'could not find any valid magic files!'"
     ]
    }
   ],
   "source": [
    "import os\n",
    "import pandas as pd\n",
    "import hashlib\n",
    "import magic\n",
    "import mimetypes\n",
    "\n",
    "dir_path = \"C:\\\\Users\\\\PC\\\\Računalna Forenzika\\\\PetriJ\\\\Dokaz\"\n",
    "\n",
    "f = magic.Magic()\n",
    "\n",
    "file_names = []\n",
    "original_extensions = []\n",
    "extension_matches = []\n",
    "md5s = []\n",
    "sha1s = []\n",
    "sha256s = []\n",
    "magic_numbers = []\n",
    "\n",
    "for file in os.listdir(dir_path):\n",
    "    if os.path.isfile(os.path.join(dir_path, file)):\n",
    "        print(file)\n",
    "        file_name, extension = os.path.splitext(file)\n",
    "        file_names.append(file_name)\n",
    "        original_extensions.append(extension)\n",
    "        md5s.append(hashlib.md5(file.encode('utf-8')).hexdigest())\n",
    "        sha1s.append(hashlib.sha1(file.encode('utf-8')).hexdigest())\n",
    "        sha256s.append(hashlib.sha256(file.encode('utf-8')).hexdigest())\n",
    "\n",
    "df = pd.DataFrame({\n",
    "    'file_name': file_names,\n",
    "    'extension': original_extensions,\n",
    "    'md5': md5s,\n",
    "    'sha1': sha1s,\n",
    "    'sha256': sha256s,\n",
    "    })\n",
    "display(df)"
   ]
  },
  {
   "cell_type": "code",
   "execution_count": null,
   "metadata": {},
   "outputs": [],
   "source": []
  }
 ],
 "metadata": {
  "kernelspec": {
   "display_name": "newvenv",
   "language": "python",
   "name": "python3"
  },
  "language_info": {
   "codemirror_mode": {
    "name": "ipython",
    "version": 3
   },
   "file_extension": ".py",
   "mimetype": "text/x-python",
   "name": "python",
   "nbconvert_exporter": "python",
   "pygments_lexer": "ipython3",
   "version": "3.12.0"
  }
 },
 "nbformat": 4,
 "nbformat_minor": 2
}
